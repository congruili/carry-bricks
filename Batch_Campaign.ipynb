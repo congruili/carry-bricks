{
 "cells": [
  {
   "cell_type": "code",
   "execution_count": 13,
   "id": "06bd77ab",
   "metadata": {},
   "outputs": [],
   "source": [
    "# user defined parameters\n",
    "targeted_portfolio_names_file = 'targeted_portfolio_names.txt'\n",
    "bid_multiplier_factor = 0.9\n",
    "#file_name = 'bulk-a3l8g1tgo8s0og-20230105-20230106-1673016841890.xlsx'\n",
    "#file_name = 'duptest.xlsx'\n",
    "file_name = 'no_empty_bids_test.xlsx'"
   ]
  },
  {
   "cell_type": "code",
   "execution_count": 14,
   "id": "8661532f",
   "metadata": {},
   "outputs": [],
   "source": [
    "SHEET_NAME_0 = 'Portfolios'\n",
    "SHEET_NAME_1 = 'Sponsored Products Campaigns'\n",
    "SHEET_NAME_2 = 'Sponsored Brands Campaigns'\n",
    "SHEET_NAME_3 = 'Sponsored Display Campaigns'\n",
    "entity_type_filter = {'Keyword', 'Product Targeting'}\n",
    "ENABLED = 'enabled'\n",
    "UPDATE = 'Update'"
   ]
  },
  {
   "cell_type": "code",
   "execution_count": 15,
   "id": "480c1e47",
   "metadata": {},
   "outputs": [],
   "source": [
    "# make sure these packages are installed\n",
    "import pandas as pd\n",
    "import numpy as np\n",
    "from datetime import datetime"
   ]
  },
  {
   "cell_type": "code",
   "execution_count": 16,
   "id": "c0c19de9",
   "metadata": {
    "scrolled": false
   },
   "outputs": [
    {
     "name": "stdout",
     "output_type": "stream",
     "text": [
      "3.8.16\n"
     ]
    }
   ],
   "source": [
    "# Python version of this notebook\n",
    "from platform import python_version\n",
    "print(python_version())"
   ]
  },
  {
   "cell_type": "code",
   "execution_count": 17,
   "id": "6747cc85",
   "metadata": {},
   "outputs": [
    {
     "data": {
      "text/plain": [
       "'C:\\\\Users\\\\congr\\\\Desktop\\\\ticonnshop'"
      ]
     },
     "execution_count": 17,
     "metadata": {},
     "output_type": "execute_result"
    }
   ],
   "source": [
    "pwd"
   ]
  },
  {
   "cell_type": "code",
   "execution_count": 18,
   "id": "99ed0bd8",
   "metadata": {},
   "outputs": [],
   "source": [
    "targeted_portfolio_name_list = pd.read_csv(targeted_portfolio_names_file, sep=',', header=None)[0].tolist()\n",
    "targeted_portfolio_names = set(targeted_portfolio_name_list)"
   ]
  },
  {
   "cell_type": "code",
   "execution_count": 19,
   "id": "2e1b1e22",
   "metadata": {},
   "outputs": [
    {
     "data": {
      "text/plain": [
       "{'00A96 Rain Poncho ACOS25',\n",
       " '03013 OxfordMoving ACOS30',\n",
       " 'asd',\n",
       " 'csada',\n",
       " 'csdsa',\n",
       " 'sdas'}"
      ]
     },
     "execution_count": 19,
     "metadata": {},
     "output_type": "execute_result"
    }
   ],
   "source": [
    "targeted_portfolio_names"
   ]
  },
  {
   "cell_type": "code",
   "execution_count": 20,
   "id": "4b348c27",
   "metadata": {},
   "outputs": [],
   "source": [
    "df_portfolios = pd.read_excel(file_name, SHEET_NAME_0)"
   ]
  },
  {
   "cell_type": "code",
   "execution_count": 21,
   "id": "73a78663",
   "metadata": {
    "scrolled": false
   },
   "outputs": [
    {
     "data": {
      "text/plain": [
       "Product                            object\n",
       "Entity                             object\n",
       "Operation                         float64\n",
       "Portfolio Id                        int64\n",
       "Portfolio Name                     object\n",
       "Budget Amount                     float64\n",
       "Budget Currency Code               object\n",
       "Budget Policy                     float64\n",
       "Budget Start Date                 float64\n",
       "Budget End Date                   float64\n",
       "State (Informational only)         object\n",
       "In Budget (Informational only)       bool\n",
       "dtype: object"
      ]
     },
     "execution_count": 21,
     "metadata": {},
     "output_type": "execute_result"
    }
   ],
   "source": [
    "df_portfolios.dtypes"
   ]
  },
  {
   "cell_type": "code",
   "execution_count": 22,
   "id": "454e1e40",
   "metadata": {},
   "outputs": [
    {
     "name": "stdout",
     "output_type": "stream",
     "text": [
      "No duplicates are found in portfolio names. You may proceed!\n"
     ]
    }
   ],
   "source": [
    "# check duplicates in portfolio names.\n",
    "if not df_portfolios['Portfolio Name'].is_unique:\n",
    "    duplicate_portfolio_names = set()\n",
    "    portfolio_names = set()\n",
    "    \n",
    "    for name in df_portfolios['Portfolio Name']:\n",
    "        if name in portfolio_names:\n",
    "            duplicate_portfolio_names.add(name)\n",
    "        portfolio_names.add(name)\n",
    "        \n",
    "    raise Exception(\"Duplicates are found in the following portfolio names: \" \n",
    "                        + '; '.join(duplicate_portfolio_names)\n",
    "                       + '\\nPlease eliminate duplicates before proceeding again. ')\n",
    "\n",
    "print(\"No duplicates are found in portfolio names. You may proceed!\")"
   ]
  },
  {
   "cell_type": "code",
   "execution_count": 23,
   "id": "50c0a4d4",
   "metadata": {},
   "outputs": [],
   "source": [
    "def process_spreadsheet(file_name, sheet_name):\n",
    "    campaign_df = pd.read_excel(file_name, sheet_name)\n",
    "    \n",
    "    campaign_df['Operation'] = campaign_df['Operation'].astype(str)\n",
    "    \n",
    "    campaign_df_filtered = campaign_df.loc[(campaign_df['Portfolio Name (Informational only)'].isin(targeted_portfolio_names))\n",
    "                                         & (campaign_df['Entity'].isin(entity_type_filter))\n",
    "                                         & (campaign_df['State'] == ENABLED)\n",
    "                                         & (campaign_df['Campaign State (Informational only)'] == ENABLED)\n",
    "                                         & (campaign_df['Ad Group State (Informational only)'] == ENABLED)]\n",
    "    if campaign_df_filtered['Bid'].isnull().sum() > 0:\n",
    "        raise Exception(\"Empty bids are found in the following rows: \" \n",
    "                        + '; '.join(str(x) for x in campaign_df_filtered[campaign_df_filtered['Bid'].isnull()].index.tolist())\n",
    "                       + '\\nPlease eliminate empty bids before proceeding again. ')\n",
    "    \n",
    "    campaign_df['Operation'] = np.where(\n",
    "        ((campaign_df['Portfolio Name (Informational only)'].isin(targeted_portfolio_names)) \n",
    "       & (campaign_df['Entity'].isin(entity_type_filter))\n",
    "       & (campaign_df['State'] == ENABLED)\n",
    "       & (campaign_df['Campaign State (Informational only)'] == ENABLED)\n",
    "       & (campaign_df['Ad Group State (Informational only)'] == ENABLED)    \n",
    "        ),\n",
    "        UPDATE,\n",
    "        '')\n",
    "    \n",
    "    campaign_df['Bid'] = np.where(\n",
    "        (campaign_df['Operation'] == UPDATE),\n",
    "        campaign_df['Bid'] * bid_multiplier_factor,\n",
    "        campaign_df['Bid'])\n",
    "    \n",
    "    current_dateTime = datetime.utcnow().__str__().split('.')[0].replace(' ', '_').replace(':', '#')\n",
    "    campaign_df.to_excel(sheet_name.replace(' ', '_') + \"_\" + current_dateTime + \"_\" + file_name, \n",
    "                    sheet_name=sheet_name, \n",
    "                    index=False)  \n",
    "    \n",
    "    print('COMPLETED!')"
   ]
  },
  {
   "cell_type": "code",
   "execution_count": 12,
   "id": "ba7f1c85",
   "metadata": {},
   "outputs": [
    {
     "name": "stdout",
     "output_type": "stream",
     "text": [
      "COMPLETED!\n"
     ]
    }
   ],
   "source": [
    "process_spreadsheet(file_name, SHEET_NAME_1)"
   ]
  },
  {
   "cell_type": "code",
   "execution_count": null,
   "id": "d676ec5d",
   "metadata": {},
   "outputs": [],
   "source": []
  }
 ],
 "metadata": {
  "kernelspec": {
   "display_name": "Python 3 (ipykernel)",
   "language": "python",
   "name": "python3"
  },
  "language_info": {
   "codemirror_mode": {
    "name": "ipython",
    "version": 3
   },
   "file_extension": ".py",
   "mimetype": "text/x-python",
   "name": "python",
   "nbconvert_exporter": "python",
   "pygments_lexer": "ipython3",
   "version": "3.8.16"
  }
 },
 "nbformat": 4,
 "nbformat_minor": 5
}
